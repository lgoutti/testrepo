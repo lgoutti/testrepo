{
 "cells": [
  {
   "cell_type": "markdown",
   "id": "f317f00e-9d56-49fa-889d-105505a9a015",
   "metadata": {},
   "source": [
    "## My Title"
   ]
  },
  {
   "cell_type": "code",
   "execution_count": 1,
   "id": "069d881d-93fd-456a-9b94-53bef6dfe1ec",
   "metadata": {},
   "outputs": [
    {
     "data": {
      "text/plain": [
       "2"
      ]
     },
     "execution_count": 1,
     "metadata": {},
     "output_type": "execute_result"
    }
   ],
   "source": [
    "1+1"
   ]
  }
 ],
 "metadata": {
  "kernelspec": {
   "display_name": "Python",
   "language": "python",
   "name": "conda-env-python-py"
  },
  "language_info": {
   "codemirror_mode": {
    "name": "ipython",
    "version": 3
   },
   "file_extension": ".py",
   "mimetype": "text/x-python",
   "name": "python",
   "nbconvert_exporter": "python",
   "pygments_lexer": "ipython3",
   "version": "3.7.12"
  }
 },
 "nbformat": 4,
 "nbformat_minor": 5
}
